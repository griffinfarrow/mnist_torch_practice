{
 "cells": [
  {
   "cell_type": "markdown",
   "metadata": {},
   "source": [
    "# MNIST Classifier  \n",
    "  \n",
    "Using Pytorch and CNNs to build a classifier for the MNIST dataset"
   ]
  },
  {
   "cell_type": "code",
   "execution_count": 1,
   "metadata": {},
   "outputs": [],
   "source": [
    "import torch\n",
    "from torch.utils.data import DataLoader\n",
    "from torchvision import datasets, transforms \n",
    "from torchvision.transforms import ToTensor\n",
    "import numpy as np"
   ]
  },
  {
   "cell_type": "markdown",
   "metadata": {},
   "source": [
    "## Data Read"
   ]
  },
  {
   "cell_type": "code",
   "execution_count": 2,
   "metadata": {},
   "outputs": [],
   "source": [
    "custom_train_transform = transforms.Compose([\n",
    "    transforms.ToTensor(),  # Converts image to a PyTorch tensor\n",
    "    transforms.GaussianBlur(kernel_size=5, sigma=(0.1, 2.0)),  # Apply Gaussian blur\n",
    "    transforms.RandomRotation(degrees=30),  # Apply random rotation (range: -30 to +30 degrees)\n",
    "])\n",
    "custom_val_transform = transforms.Compose([\n",
    "    transforms.ToTensor() # Converts image to a PyTorch tensor\n",
    "])"
   ]
  },
  {
   "cell_type": "code",
   "execution_count": 3,
   "metadata": {},
   "outputs": [],
   "source": [
    "## Read in MNIST dataset\n",
    "\n",
    "training_data = datasets.MNIST(\n",
    "    root=\"data\",\n",
    "    train=True,\n",
    "    download=True,\n",
    "    transform=custom_train_transform\n",
    ")\n",
    "\n",
    "test_data = datasets.MNIST(\n",
    "    root=\"data\",\n",
    "    train=False,\n",
    "    download=True,\n",
    "    transform=custom_val_transform\n",
    ")\n"
   ]
  },
  {
   "cell_type": "code",
   "execution_count": 4,
   "metadata": {},
   "outputs": [
    {
     "name": "stdout",
     "output_type": "stream",
     "text": [
      "0\n",
      "label =  [5]\n"
     ]
    },
    {
     "data": {
      "image/png": "[encoded data removed]",
      "text/plain": [
       "<Figure size 640x480 with 1 Axes>"
      ]
     },
     "metadata": {},
     "output_type": "display_data"
    }
   ],
   "source": [
    "import matplotlib.pyplot as plt \n",
    "\n",
    "# Playing around a bit with DataLoaders so we can understand what is going on\n",
    "\n",
    "train_dataloader = DataLoader(training_data, batch_size=1, num_workers=1)\n",
    "test_dataloader = DataLoader(test_data, batch_size=1, num_workers=1)\n",
    "\n",
    "for batch, (img, label) in enumerate(train_dataloader):\n",
    "    print(batch)\n",
    "    print(\"label = \", label.numpy())\n",
    "    plt.figure()\n",
    "    plt.imshow(img.squeeze(), cmap='grey')\n",
    "    plt.show()\n",
    "    break"
   ]
  },
  {
   "cell_type": "markdown",
   "metadata": {},
   "source": [
    "## Define the Model"
   ]
  },
  {
   "cell_type": "code",
   "execution_count": 5,
   "metadata": {},
   "outputs": [],
   "source": [
    "import torch.nn as nn \n",
    "import torch.nn.functional as F"
   ]
  },
  {
   "cell_type": "code",
   "execution_count": 6,
   "metadata": {},
   "outputs": [],
   "source": [
    "import torch\n",
    "import torch.nn as nn\n",
    "import torch.nn.functional as F\n",
    "\n",
    "class Griff_CNN(nn.Module):\n",
    "\n",
    "    def __init__(self):\n",
    "        super(Griff_CNN, self).__init__()\n",
    "\n",
    "        # First convolutional layer + batch normalization\n",
    "        self.conv1 = nn.Conv2d(in_channels=1, out_channels=16, kernel_size=3, stride=1, padding=1) # should be 16x28x28 after\n",
    "        self.bn1 = nn.BatchNorm2d(16)  # BatchNorm for 16 channels\n",
    "        self.pool1 = nn.MaxPool2d(kernel_size=2, stride=2)  # should be 16x14x14 after\n",
    "        \n",
    "        # Second convolutional layer + batch normalization\n",
    "        self.conv2 = nn.Conv2d(in_channels=16, out_channels=24, kernel_size=3, stride=1, padding=1) # should be 24x14x14 after\n",
    "        self.bn2 = nn.BatchNorm2d(24)  # BatchNorm for 24 channels\n",
    "        self.pool2 = nn.MaxPool2d(kernel_size=2, stride=2)  # should be 24x7x7 after\n",
    "        \n",
    "        # Fully connected layers\n",
    "        self.fc1 = nn.Linear(in_features=24*7*7, out_features=512)\n",
    "        self.fc2 = nn.Linear(in_features=512, out_features=256)\n",
    "        self.fc3 = nn.Linear(in_features=256, out_features=10)\n",
    "\n",
    "    def forward(self, x): \n",
    "        # First convolution block\n",
    "        x = self.conv1(x)\n",
    "        x = self.bn1(x)  # Batch Normalization after convolution\n",
    "        x = F.relu(x)  # Apply ReLU after BatchNorm\n",
    "        x = self.pool1(x)  # Max pooling\n",
    "        \n",
    "        # Second convolution block\n",
    "        x = self.conv2(x)\n",
    "        x = self.bn2(x)  # Batch Normalization after convolution\n",
    "        x = F.relu(x)  # Apply ReLU after BatchNorm\n",
    "        x = self.pool2(x)  # Max pooling\n",
    "        \n",
    "        # Flatten the tensor for fully connected layers\n",
    "        x = torch.flatten(x, start_dim=1)\n",
    "        \n",
    "        # Fully connected layers\n",
    "        x = F.relu(self.fc1(x))\n",
    "        x = F.relu(self.fc2(x))\n",
    "        x = self.fc3(x)  # Final output\n",
    "        \n",
    "        return x\n"
   ]
  },
  {
   "cell_type": "code",
   "execution_count": 7,
   "metadata": {},
   "outputs": [
    {
     "name": "stdout",
     "output_type": "stream",
     "text": [
      "Using mps device\n"
     ]
    }
   ],
   "source": [
    "device = (\n",
    "    \"cuda\"\n",
    "    if torch.cuda.is_available()\n",
    "    else \"mps\"\n",
    "    if torch.backends.mps.is_available()\n",
    "    else \"cpu\"\n",
    ")\n",
    "print(f\"Using {device} device\")"
   ]
  },
  {
   "cell_type": "code",
   "execution_count": 8,
   "metadata": {},
   "outputs": [],
   "source": [
    "model = Griff_CNN().to(device)"
   ]
  },
  {
   "cell_type": "code",
   "execution_count": 9,
   "metadata": {},
   "outputs": [
    {
     "name": "stdout",
     "output_type": "stream",
     "text": [
      "tensor([[ 0.0354, -0.0493,  0.1221,  0.0938,  0.0681, -0.0430,  0.1463, -0.0805,\n",
      "         -0.0656,  0.0090]], device='mps:0', grad_fn=<LinearBackward0>)\n"
     ]
    }
   ],
   "source": [
    "# test that results are sensible\n",
    "\n",
    "input_tensor = torch.randn(1, 1, 28, 28).to(device)\n",
    "output = model(input_tensor)\n",
    "print(output)"
   ]
  },
  {
   "cell_type": "markdown",
   "metadata": {},
   "source": [
    "## Training"
   ]
  },
  {
   "cell_type": "code",
   "execution_count": 10,
   "metadata": {},
   "outputs": [],
   "source": [
    "loss_fn = nn.CrossEntropyLoss()"
   ]
  },
  {
   "cell_type": "code",
   "execution_count": 11,
   "metadata": {},
   "outputs": [],
   "source": [
    "# Define key hyperparameters\n",
    "\n",
    "batchsize = 64 # mini-batch size \n",
    "nworkers = 4\n",
    "lr = 1.0e-3 # learning rate\n",
    "epochs = 20 # number of training epochs \n",
    "# ADAM optimiser parameter\n",
    "beta1 = 0.9 \n",
    "beta2 = 0.999 \n",
    "eps = 1.0e-8\n",
    "lambd = 0."
   ]
  },
  {
   "cell_type": "code",
   "execution_count": 12,
   "metadata": {},
   "outputs": [],
   "source": [
    "# Define optimiser\n",
    "optimiser = torch.optim.Adam(model.parameters(), \n",
    "                             lr=lr, \n",
    "                             betas=(beta1, beta2), \n",
    "                             eps=eps, \n",
    "                             weight_decay=lambd)"
   ]
  },
  {
   "cell_type": "code",
   "execution_count": 13,
   "metadata": {},
   "outputs": [],
   "source": [
    "train_dataloader = DataLoader(training_data, batch_size=batchsize, num_workers=nworkers)\n",
    "test_dataloader = DataLoader(test_data, batch_size=batchsize, num_workers=nworkers)"
   ]
  },
  {
   "cell_type": "code",
   "execution_count": 14,
   "metadata": {},
   "outputs": [],
   "source": [
    "def train_loop(dataloader, model, loss_fn, optimizer, history):\n",
    "    \n",
    "    size = len(dataloader.dataset)\n",
    "    model.train()\n",
    "\n",
    "    for batch, (X, y) in enumerate(dataloader):\n",
    "        X, y = X.to(device), y.to(device)\n",
    "        # forward prediction\n",
    "        pred = model(X) \n",
    "        loss = loss_fn(pred, y)\n",
    "\n",
    "        # backpropagation\n",
    "        loss.backward()\n",
    "        optimizer.step()\n",
    "        optimizer.zero_grad()\n",
    "\n",
    "        if batch % 100 == 0:\n",
    "            loss, current = loss.item(), batch * batchsize + len(X)\n",
    "            print(f\"loss: {loss:>7f}  [{current:>5d}/{size:>5d}]\")\n",
    "\n",
    "    history['test_loss'].append(loss)"
   ]
  },
  {
   "cell_type": "code",
   "execution_count": 15,
   "metadata": {},
   "outputs": [],
   "source": [
    "def test_loop(dataloader, model, loss_fn, history):\n",
    "    model.eval()\n",
    "    size = len(dataloader.dataset)\n",
    "    num_batches = len(dataloader)\n",
    "    test_loss, correct = 0., 0. \n",
    "\n",
    "    with torch.no_grad(): \n",
    "        for X, y in dataloader:\n",
    "            X, y = X.to(device), y.to(device)\n",
    "            pred = model(X) \n",
    "            test_loss += loss_fn(pred, y).item()\n",
    "            correct += (pred.argmax(1) == y).type(torch.float).sum().item()\n",
    "\n",
    "    test_loss /= num_batches \n",
    "    correct /= size \n",
    "    print(f\"Test Error: \\n Accuracy: {(100*correct):>0.1f}%, Avg loss: {test_loss:>8f} \\n\")\n",
    "\n",
    "    history['val_loss'].append(test_loss)\n",
    "    history['accuracy'].append(correct)"
   ]
  },
  {
   "cell_type": "code",
   "execution_count": 16,
   "metadata": {},
   "outputs": [],
   "source": [
    "history = {'epoch' : [], \n",
    "           'test_loss' : [],\n",
    "           'val_loss': [],\n",
    "           'accuracy' : []\n",
    "}"
   ]
  },
  {
   "cell_type": "code",
   "execution_count": 17,
   "metadata": {},
   "outputs": [
    {
     "name": "stdout",
     "output_type": "stream",
     "text": [
      "Epoch 1\n",
      "-------------------------------\n",
      "loss: 2.309160  [   64/60000]\n",
      "loss: 0.243568  [ 6464/60000]\n",
      "loss: 0.238750  [12864/60000]\n",
      "loss: 0.248396  [19264/60000]\n",
      "loss: 0.066366  [25664/60000]\n",
      "loss: 0.312634  [32064/60000]\n",
      "loss: 0.140415  [38464/60000]\n",
      "loss: 0.197344  [44864/60000]\n",
      "loss: 0.272695  [51264/60000]\n",
      "loss: 0.113494  [57664/60000]\n",
      "Test Error: \n",
      " Accuracy: 96.6%, Avg loss: 0.116597 \n",
      "\n",
      "Epoch 2\n",
      "-------------------------------\n",
      "loss: 0.155177  [   64/60000]\n",
      "loss: 0.158141  [ 6464/60000]\n",
      "loss: 0.105139  [12864/60000]\n",
      "loss: 0.071756  [19264/60000]\n",
      "loss: 0.153947  [25664/60000]\n",
      "loss: 0.038242  [32064/60000]\n",
      "loss: 0.083601  [38464/60000]\n",
      "loss: 0.133468  [44864/60000]\n",
      "loss: 0.123664  [51264/60000]\n",
      "loss: 0.141434  [57664/60000]\n",
      "Test Error: \n",
      " Accuracy: 97.9%, Avg loss: 0.068876 \n",
      "\n",
      "Epoch 3\n",
      "-------------------------------\n",
      "loss: 0.130448  [   64/60000]\n",
      "loss: 0.073914  [ 6464/60000]\n",
      "loss: 0.081535  [12864/60000]\n",
      "loss: 0.013693  [19264/60000]\n",
      "loss: 0.024235  [25664/60000]\n",
      "loss: 0.019760  [32064/60000]\n",
      "loss: 0.055897  [38464/60000]\n",
      "loss: 0.102928  [44864/60000]\n",
      "loss: 0.228334  [51264/60000]\n",
      "loss: 0.116745  [57664/60000]\n",
      "Test Error: \n",
      " Accuracy: 98.0%, Avg loss: 0.068256 \n",
      "\n",
      "Epoch 4\n",
      "-------------------------------\n",
      "loss: 0.179226  [   64/60000]\n",
      "loss: 0.149240  [ 6464/60000]\n",
      "loss: 0.101019  [12864/60000]\n",
      "loss: 0.017595  [19264/60000]\n",
      "loss: 0.035745  [25664/60000]\n",
      "loss: 0.081880  [32064/60000]\n",
      "loss: 0.043894  [38464/60000]\n",
      "loss: 0.034004  [44864/60000]\n",
      "loss: 0.268346  [51264/60000]\n",
      "loss: 0.064488  [57664/60000]\n",
      "Test Error: \n",
      " Accuracy: 98.4%, Avg loss: 0.058195 \n",
      "\n",
      "Epoch 5\n",
      "-------------------------------\n",
      "loss: 0.009327  [   64/60000]\n",
      "loss: 0.057747  [ 6464/60000]\n",
      "loss: 0.196323  [12864/60000]\n",
      "loss: 0.199277  [19264/60000]\n",
      "loss: 0.088768  [25664/60000]\n",
      "loss: 0.125745  [32064/60000]\n",
      "loss: 0.043717  [38464/60000]\n",
      "loss: 0.096144  [44864/60000]\n",
      "loss: 0.200493  [51264/60000]\n",
      "loss: 0.081526  [57664/60000]\n",
      "Test Error: \n",
      " Accuracy: 98.4%, Avg loss: 0.053687 \n",
      "\n",
      "Epoch 6\n",
      "-------------------------------\n",
      "loss: 0.010652  [   64/60000]\n",
      "loss: 0.095395  [ 6464/60000]\n",
      "loss: 0.100305  [12864/60000]\n",
      "loss: 0.042960  [19264/60000]\n",
      "loss: 0.079632  [25664/60000]\n",
      "loss: 0.014902  [32064/60000]\n",
      "loss: 0.027529  [38464/60000]\n",
      "loss: 0.113575  [44864/60000]\n",
      "loss: 0.119349  [51264/60000]\n",
      "loss: 0.057657  [57664/60000]\n",
      "Test Error: \n",
      " Accuracy: 98.8%, Avg loss: 0.042760 \n",
      "\n",
      "Epoch 7\n",
      "-------------------------------\n",
      "loss: 0.013948  [   64/60000]\n",
      "loss: 0.017253  [ 6464/60000]\n",
      "loss: 0.109841  [12864/60000]\n",
      "loss: 0.085462  [19264/60000]\n",
      "loss: 0.010578  [25664/60000]\n",
      "loss: 0.026767  [32064/60000]\n",
      "loss: 0.025524  [38464/60000]\n",
      "loss: 0.143092  [44864/60000]\n",
      "loss: 0.076404  [51264/60000]\n",
      "loss: 0.147750  [57664/60000]\n",
      "Test Error: \n",
      " Accuracy: 98.9%, Avg loss: 0.041360 \n",
      "\n",
      "Epoch 8\n",
      "-------------------------------\n",
      "loss: 0.011469  [   64/60000]\n",
      "loss: 0.046569  [ 6464/60000]\n",
      "loss: 0.022011  [12864/60000]\n",
      "loss: 0.038485  [19264/60000]\n",
      "loss: 0.044662  [25664/60000]\n",
      "loss: 0.012312  [32064/60000]\n",
      "loss: 0.042443  [38464/60000]\n",
      "loss: 0.190550  [44864/60000]\n",
      "loss: 0.196495  [51264/60000]\n",
      "loss: 0.086682  [57664/60000]\n",
      "Test Error: \n",
      " Accuracy: 98.9%, Avg loss: 0.040048 \n",
      "\n",
      "Epoch 9\n",
      "-------------------------------\n",
      "loss: 0.016258  [   64/60000]\n",
      "loss: 0.034734  [ 6464/60000]\n",
      "loss: 0.047410  [12864/60000]\n",
      "loss: 0.068902  [19264/60000]\n",
      "loss: 0.089768  [25664/60000]\n",
      "loss: 0.026148  [32064/60000]\n",
      "loss: 0.029737  [38464/60000]\n",
      "loss: 0.012934  [44864/60000]\n",
      "loss: 0.125905  [51264/60000]\n",
      "loss: 0.068993  [57664/60000]\n",
      "Test Error: \n",
      " Accuracy: 98.8%, Avg loss: 0.046853 \n",
      "\n",
      "Epoch 10\n",
      "-------------------------------\n",
      "loss: 0.059122  [   64/60000]\n",
      "loss: 0.025980  [ 6464/60000]\n",
      "loss: 0.123646  [12864/60000]\n",
      "loss: 0.090877  [19264/60000]\n",
      "loss: 0.107649  [25664/60000]\n",
      "loss: 0.061691  [32064/60000]\n",
      "loss: 0.007395  [38464/60000]\n",
      "loss: 0.016209  [44864/60000]\n",
      "loss: 0.090896  [51264/60000]\n",
      "loss: 0.052446  [57664/60000]\n",
      "Test Error: \n",
      " Accuracy: 98.9%, Avg loss: 0.043300 \n",
      "\n",
      "Epoch 11\n",
      "-------------------------------\n",
      "loss: 0.013150  [   64/60000]\n",
      "loss: 0.069329  [ 6464/60000]\n",
      "loss: 0.005237  [12864/60000]\n",
      "loss: 0.091874  [19264/60000]\n",
      "loss: 0.084061  [25664/60000]\n",
      "loss: 0.027029  [32064/60000]\n",
      "loss: 0.034798  [38464/60000]\n",
      "loss: 0.166362  [44864/60000]\n",
      "loss: 0.131279  [51264/60000]\n",
      "loss: 0.052420  [57664/60000]\n",
      "Test Error: \n",
      " Accuracy: 99.0%, Avg loss: 0.037469 \n",
      "\n",
      "Epoch 12\n",
      "-------------------------------\n",
      "loss: 0.023425  [   64/60000]\n",
      "loss: 0.008753  [ 6464/60000]\n",
      "loss: 0.020930  [12864/60000]\n",
      "loss: 0.003731  [19264/60000]\n",
      "loss: 0.065126  [25664/60000]\n",
      "loss: 0.024353  [32064/60000]\n",
      "loss: 0.008187  [38464/60000]\n",
      "loss: 0.054301  [44864/60000]\n",
      "loss: 0.133245  [51264/60000]\n",
      "loss: 0.070734  [57664/60000]\n",
      "Test Error: \n",
      " Accuracy: 98.9%, Avg loss: 0.040102 \n",
      "\n",
      "Epoch 13\n",
      "-------------------------------\n",
      "loss: 0.002654  [   64/60000]\n",
      "loss: 0.008689  [ 6464/60000]\n",
      "loss: 0.039488  [12864/60000]\n",
      "loss: 0.034869  [19264/60000]\n",
      "loss: 0.013083  [25664/60000]\n",
      "loss: 0.005189  [32064/60000]\n",
      "loss: 0.002818  [38464/60000]\n",
      "loss: 0.077217  [44864/60000]\n",
      "loss: 0.116740  [51264/60000]\n",
      "loss: 0.034740  [57664/60000]\n",
      "Test Error: \n",
      " Accuracy: 99.0%, Avg loss: 0.037287 \n",
      "\n",
      "Epoch 14\n",
      "-------------------------------\n",
      "loss: 0.034361  [   64/60000]\n",
      "loss: 0.123340  [ 6464/60000]\n",
      "loss: 0.014361  [12864/60000]\n",
      "loss: 0.007113  [19264/60000]\n",
      "loss: 0.002713  [25664/60000]\n",
      "loss: 0.006753  [32064/60000]\n",
      "loss: 0.010416  [38464/60000]\n",
      "loss: 0.093858  [44864/60000]\n",
      "loss: 0.172922  [51264/60000]\n",
      "loss: 0.024913  [57664/60000]\n",
      "Test Error: \n",
      " Accuracy: 99.0%, Avg loss: 0.047061 \n",
      "\n",
      "Epoch 15\n",
      "-------------------------------\n",
      "loss: 0.021500  [   64/60000]\n",
      "loss: 0.003260  [ 6464/60000]\n",
      "loss: 0.061260  [12864/60000]\n",
      "loss: 0.008437  [19264/60000]\n",
      "loss: 0.008043  [25664/60000]\n",
      "loss: 0.008572  [32064/60000]\n",
      "loss: 0.002590  [38464/60000]\n",
      "loss: 0.063139  [44864/60000]\n",
      "loss: 0.206143  [51264/60000]\n",
      "loss: 0.016807  [57664/60000]\n",
      "Test Error: \n",
      " Accuracy: 98.9%, Avg loss: 0.036420 \n",
      "\n",
      "Epoch 16\n",
      "-------------------------------\n",
      "loss: 0.039400  [   64/60000]\n",
      "loss: 0.002240  [ 6464/60000]\n",
      "loss: 0.107170  [12864/60000]\n",
      "loss: 0.066216  [19264/60000]\n",
      "loss: 0.034460  [25664/60000]\n",
      "loss: 0.009773  [32064/60000]\n",
      "loss: 0.033048  [38464/60000]\n",
      "loss: 0.033202  [44864/60000]\n",
      "loss: 0.047393  [51264/60000]\n",
      "loss: 0.057593  [57664/60000]\n",
      "Test Error: \n",
      " Accuracy: 98.9%, Avg loss: 0.037672 \n",
      "\n",
      "Epoch 17\n",
      "-------------------------------\n",
      "loss: 0.002675  [   64/60000]\n",
      "loss: 0.106154  [ 6464/60000]\n",
      "loss: 0.111329  [12864/60000]\n",
      "loss: 0.002094  [19264/60000]\n",
      "loss: 0.056749  [25664/60000]\n",
      "loss: 0.007452  [32064/60000]\n",
      "loss: 0.025637  [38464/60000]\n",
      "loss: 0.055390  [44864/60000]\n",
      "loss: 0.196153  [51264/60000]\n",
      "loss: 0.016086  [57664/60000]\n",
      "Test Error: \n",
      " Accuracy: 98.9%, Avg loss: 0.043783 \n",
      "\n",
      "Epoch 18\n",
      "-------------------------------\n",
      "loss: 0.007464  [   64/60000]\n",
      "loss: 0.012882  [ 6464/60000]\n",
      "loss: 0.137074  [12864/60000]\n",
      "loss: 0.042104  [19264/60000]\n",
      "loss: 0.010934  [25664/60000]\n",
      "loss: 0.003936  [32064/60000]\n",
      "loss: 0.004519  [38464/60000]\n",
      "loss: 0.020240  [44864/60000]\n",
      "loss: 0.020777  [51264/60000]\n",
      "loss: 0.025510  [57664/60000]\n",
      "Test Error: \n",
      " Accuracy: 98.7%, Avg loss: 0.046860 \n",
      "\n",
      "Epoch 19\n",
      "-------------------------------\n",
      "loss: 0.033168  [   64/60000]\n",
      "loss: 0.003441  [ 6464/60000]\n",
      "loss: 0.032429  [12864/60000]\n",
      "loss: 0.038719  [19264/60000]\n",
      "loss: 0.103746  [25664/60000]\n",
      "loss: 0.022678  [32064/60000]\n",
      "loss: 0.016110  [38464/60000]\n",
      "loss: 0.026984  [44864/60000]\n",
      "loss: 0.292211  [51264/60000]\n",
      "loss: 0.004567  [57664/60000]\n",
      "Test Error: \n",
      " Accuracy: 98.8%, Avg loss: 0.051220 \n",
      "\n",
      "Epoch 20\n",
      "-------------------------------\n",
      "loss: 0.035920  [   64/60000]\n",
      "loss: 0.038584  [ 6464/60000]\n",
      "loss: 0.081244  [12864/60000]\n",
      "loss: 0.028298  [19264/60000]\n",
      "loss: 0.048886  [25664/60000]\n",
      "loss: 0.008698  [32064/60000]\n",
      "loss: 0.000323  [38464/60000]\n",
      "loss: 0.014472  [44864/60000]\n",
      "loss: 0.047699  [51264/60000]\n",
      "loss: 0.061304  [57664/60000]\n",
      "Test Error: \n",
      " Accuracy: 98.9%, Avg loss: 0.044544 \n",
      "\n",
      "Done!\n"
     ]
    }
   ],
   "source": [
    "for t in range(epochs):\n",
    "    history['epoch'].append(t+1)\n",
    "    print(f\"Epoch {t+1}\\n-------------------------------\")\n",
    "    train_loop(train_dataloader, model, loss_fn, optimiser, history)\n",
    "    test_loop(test_dataloader, model, loss_fn, history)\n",
    "print(\"Done!\")"
   ]
  },
  {
   "cell_type": "code",
   "execution_count": 18,
   "metadata": {},
   "outputs": [],
   "source": [
    "epochs = [item for item in history['epoch']]\n",
    "test_losses = [item.item() for item in history['test_loss']]\n",
    "val_losses = [item for item in history['val_loss']]"
   ]
  },
  {
   "cell_type": "code",
   "execution_count": 19,
   "metadata": {},
   "outputs": [
    {
     "data": {
      "image/png": "[encoded data removed]",
      "text/plain": [
       "<Figure size 800x600 with 1 Axes>"
      ]
     },
     "metadata": {},
     "output_type": "display_data"
    }
   ],
   "source": [
    "plt.figure(figsize = (8, 6))\n",
    "plt.plot(epochs, test_losses, color = 'blue', label = \"Train Loss\")\n",
    "plt.plot(epochs, val_losses, color = 'red', label = \"Test Loss\")\n",
    "plt.legend()\n",
    "plt.tight_layout()\n",
    "plt.grid()\n",
    "plt.show()"
   ]
  },
  {
   "cell_type": "code",
   "execution_count": 20,
   "metadata": {},
   "outputs": [
    {
     "data": {
      "image/png": "[encoded data removed]",
      "text/plain": [
       "<Figure size 800x600 with 1 Axes>"
      ]
     },
     "metadata": {},
     "output_type": "display_data"
    }
   ],
   "source": [
    "plt.figure(figsize = (8, 6))\n",
    "plt.plot(epochs, 100*np.array(history['accuracy']), color = 'blue')\n",
    "plt.xlabel(\"Epoch\")\n",
    "plt.ylabel(\"Accuracy\")\n",
    "plt.grid()\n",
    "plt.tight_layout()"
   ]
  }
 ],
 "metadata": {
  "kernelspec": {
   "display_name": "mnist_practice_venv",
   "language": "python",
   "name": "python3"
  },
  "language_info": {
   "codemirror_mode": {
    "name": "ipython",
    "version": 3
   },
   "file_extension": ".py",
   "mimetype": "text/x-python",
   "name": "python",
   "nbconvert_exporter": "python",
   "pygments_lexer": "ipython3",
   "version": "3.12.7"
  }
 },
 "nbformat": 4,
 "nbformat_minor": 2
}
