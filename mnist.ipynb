{
 "cells": [
  {
   "cell_type": "markdown",
   "metadata": {},
   "source": [
    "# MNIST Classifier  \n",
    "  \n",
    "Using Pytorch and CNNs to build a classifier for the MNIST dataset"
   ]
  },
  {
   "cell_type": "code",
   "execution_count": 23,
   "metadata": {},
   "outputs": [],
   "source": [
    "import torch\n",
    "from torch.utils.data import DataLoader\n",
    "from torchvision import datasets, transforms \n",
    "from torchvision.transforms import ToTensor\n",
    "import numpy as np"
   ]
  },
  {
   "cell_type": "markdown",
   "metadata": {},
   "source": [
    "## Data Read"
   ]
  },
  {
   "cell_type": "code",
   "execution_count": 3,
   "metadata": {},
   "outputs": [],
   "source": [
    "custom_train_transform = transforms.Compose([\n",
    "    transforms.ToTensor(),  # Converts image to a PyTorch tensor\n",
    "    transforms.GaussianBlur(kernel_size=5, sigma=(0.1, 2.0)),  # Apply Gaussian blur\n",
    "    transforms.RandomRotation(degrees=30),  # Apply random rotation (range: -30 to +30 degrees)\n",
    "])\n",
    "custom_val_transform = transforms.Compose([\n",
    "    transforms.ToTensor() # Converts image to a PyTorch tensor\n",
    "])"
   ]
  },
  {
   "cell_type": "code",
   "execution_count": 4,
   "metadata": {},
   "outputs": [],
   "source": [
    "## Read in MNIST dataset\n",
    "\n",
    "training_data = datasets.MNIST(\n",
    "    root=\"data\",\n",
    "    train=True,\n",
    "    download=True,\n",
    "    transform=custom_train_transform\n",
    ")\n",
    "\n",
    "test_data = datasets.MNIST(\n",
    "    root=\"data\",\n",
    "    train=False,\n",
    "    download=True,\n",
    "    transform=custom_val_transform\n",
    ")\n"
   ]
  },
  {
   "cell_type": "code",
   "execution_count": 5,
   "metadata": {},
   "outputs": [
    {
     "name": "stdout",
     "output_type": "stream",
     "text": [
      "0\n",
      "label =  [5]\n"
     ]
    },
    {
     "data": {
      "image/png": "[encoded data removed]",
      "text/plain": [
       "<Figure size 640x480 with 1 Axes>"
      ]
     },
     "metadata": {},
     "output_type": "display_data"
    }
   ],
   "source": [
    "import matplotlib.pyplot as plt \n",
    "\n",
    "# Playing around a bit with DataLoaders so we can understand what is going on\n",
    "\n",
    "train_dataloader = DataLoader(training_data, batch_size=1, num_workers=1)\n",
    "test_dataloader = DataLoader(test_data, batch_size=1, num_workers=1)\n",
    "\n",
    "for batch, (img, label) in enumerate(train_dataloader):\n",
    "    print(batch)\n",
    "    print(\"label = \", label.numpy())\n",
    "    plt.figure()\n",
    "    plt.imshow(img.squeeze(), cmap='grey')\n",
    "    plt.show()\n",
    "    break"
   ]
  },
  {
   "cell_type": "markdown",
   "metadata": {},
   "source": [
    "## Define the Model"
   ]
  },
  {
   "cell_type": "code",
   "execution_count": 6,
   "metadata": {},
   "outputs": [],
   "source": [
    "import torch.nn as nn \n",
    "import torch.nn.functional as F"
   ]
  },
  {
   "cell_type": "code",
   "execution_count": 7,
   "metadata": {},
   "outputs": [],
   "source": [
    "import torch\n",
    "import torch.nn as nn\n",
    "import torch.nn.functional as F\n",
    "\n",
    "class Griff_CNN(nn.Module):\n",
    "\n",
    "    def __init__(self):\n",
    "        super(Griff_CNN, self).__init__()\n",
    "\n",
    "        # First convolutional layer + batch normalization\n",
    "        self.conv1 = nn.Conv2d(in_channels=1, out_channels=16, kernel_size=3, stride=1, padding=1) # should be 16x28x28 after\n",
    "        self.bn1 = nn.BatchNorm2d(16)  # BatchNorm for 16 channels\n",
    "        self.pool1 = nn.MaxPool2d(kernel_size=2, stride=2)  # should be 16x14x14 after\n",
    "        \n",
    "        # Second convolutional layer + batch normalization\n",
    "        self.conv2 = nn.Conv2d(in_channels=16, out_channels=24, kernel_size=3, stride=1, padding=1) # should be 24x14x14 after\n",
    "        self.bn2 = nn.BatchNorm2d(24)  # BatchNorm for 24 channels\n",
    "        self.pool2 = nn.MaxPool2d(kernel_size=2, stride=2)  # should be 24x7x7 after\n",
    "        \n",
    "        # Fully connected layers\n",
    "        self.fc1 = nn.Linear(in_features=24*7*7, out_features=512)\n",
    "        self.fc2 = nn.Linear(in_features=512, out_features=256)\n",
    "        self.fc3 = nn.Linear(in_features=256, out_features=10)\n",
    "\n",
    "    def forward(self, x): \n",
    "        # First convolution block\n",
    "        x = self.conv1(x)\n",
    "        x = self.bn1(x)  # Batch Normalization after convolution\n",
    "        x = F.relu(x)  # Apply ReLU after BatchNorm\n",
    "        x = self.pool1(x)  # Max pooling\n",
    "        \n",
    "        # Second convolution block\n",
    "        x = self.conv2(x)\n",
    "        x = self.bn2(x)  # Batch Normalization after convolution\n",
    "        x = F.relu(x)  # Apply ReLU after BatchNorm\n",
    "        x = self.pool2(x)  # Max pooling\n",
    "        \n",
    "        # Flatten the tensor for fully connected layers\n",
    "        x = torch.flatten(x, start_dim=1)\n",
    "        \n",
    "        # Fully connected layers\n",
    "        x = F.relu(self.fc1(x))\n",
    "        x = F.relu(self.fc2(x))\n",
    "        x = self.fc3(x)  # Final output\n",
    "        \n",
    "        return x\n"
   ]
  },
  {
   "cell_type": "code",
   "execution_count": 8,
   "metadata": {},
   "outputs": [
    {
     "name": "stdout",
     "output_type": "stream",
     "text": [
      "Using mps device\n"
     ]
    }
   ],
   "source": [
    "device = (\n",
    "    \"cuda\"\n",
    "    if torch.cuda.is_available()\n",
    "    else \"mps\"\n",
    "    if torch.backends.mps.is_available()\n",
    "    else \"cpu\"\n",
    ")\n",
    "print(f\"Using {device} device\")"
   ]
  },
  {
   "cell_type": "code",
   "execution_count": 9,
   "metadata": {},
   "outputs": [],
   "source": [
    "model = Griff_CNN().to(device)"
   ]
  },
  {
   "cell_type": "code",
   "execution_count": 10,
   "metadata": {},
   "outputs": [
    {
     "name": "stdout",
     "output_type": "stream",
     "text": [
      "tensor([[-0.0669,  0.0046, -0.1678,  0.0181,  0.2806, -0.0175, -0.0244, -0.1533,\n",
      "          0.0095, -0.0024]], device='mps:0', grad_fn=<LinearBackward0>)\n"
     ]
    }
   ],
   "source": [
    "# test that results are sensible\n",
    "\n",
    "input_tensor = torch.randn(1, 1, 28, 28).to(device)\n",
    "output = model(input_tensor)\n",
    "print(output)"
   ]
  },
  {
   "cell_type": "markdown",
   "metadata": {},
   "source": [
    "## Training"
   ]
  },
  {
   "cell_type": "code",
   "execution_count": 11,
   "metadata": {},
   "outputs": [],
   "source": [
    "loss_fn = nn.CrossEntropyLoss()"
   ]
  },
  {
   "cell_type": "code",
   "execution_count": 12,
   "metadata": {},
   "outputs": [],
   "source": [
    "# Define key hyperparameters\n",
    "\n",
    "batchsize = 64 # mini-batch size \n",
    "nworkers = 4\n",
    "lr = 1.0e-3 # learning rate\n",
    "epochs = 20 # number of training epochs \n",
    "# ADAM optimiser parameter\n",
    "beta1 = 0.9 \n",
    "beta2 = 0.999 \n",
    "eps = 1.0e-8\n",
    "lambd = 0."
   ]
  },
  {
   "cell_type": "code",
   "execution_count": 13,
   "metadata": {},
   "outputs": [],
   "source": [
    "# Define optimiser\n",
    "optimiser = torch.optim.Adam(model.parameters(), \n",
    "                             lr=lr, \n",
    "                             betas=(beta1, beta2), \n",
    "                             eps=eps, \n",
    "                             weight_decay=lambd)"
   ]
  },
  {
   "cell_type": "code",
   "execution_count": 14,
   "metadata": {},
   "outputs": [],
   "source": [
    "train_dataloader = DataLoader(training_data, batch_size=batchsize, num_workers=nworkers)\n",
    "test_dataloader = DataLoader(test_data, batch_size=batchsize, num_workers=nworkers)"
   ]
  },
  {
   "cell_type": "code",
   "execution_count": 15,
   "metadata": {},
   "outputs": [],
   "source": [
    "def train_loop(dataloader, model, loss_fn, optimizer, history):\n",
    "    \n",
    "    size = len(dataloader.dataset)\n",
    "    model.train()\n",
    "\n",
    "    for batch, (X, y) in enumerate(dataloader):\n",
    "        X, y = X.to(device), y.to(device)\n",
    "        # forward prediction\n",
    "        pred = model(X) \n",
    "        loss = loss_fn(pred, y)\n",
    "\n",
    "        # backpropagation\n",
    "        loss.backward()\n",
    "        optimizer.step()\n",
    "        optimizer.zero_grad()\n",
    "\n",
    "        if batch % 100 == 0:\n",
    "            loss, current = loss.item(), batch * batchsize + len(X)\n",
    "            print(f\"loss: {loss:>7f}  [{current:>5d}/{size:>5d}]\")\n",
    "\n",
    "    history['test_loss'].append(loss)"
   ]
  },
  {
   "cell_type": "code",
   "execution_count": 16,
   "metadata": {},
   "outputs": [],
   "source": [
    "def test_loop(dataloader, model, loss_fn, history):\n",
    "    model.eval()\n",
    "    size = len(dataloader.dataset)\n",
    "    num_batches = len(dataloader)\n",
    "    test_loss, correct = 0., 0. \n",
    "\n",
    "    with torch.no_grad(): \n",
    "        for X, y in dataloader:\n",
    "            X, y = X.to(device), y.to(device)\n",
    "            pred = model(X) \n",
    "            test_loss += loss_fn(pred, y).item()\n",
    "            correct += (pred.argmax(1) == y).type(torch.float).sum().item()\n",
    "\n",
    "    test_loss /= num_batches \n",
    "    correct /= size \n",
    "    print(f\"Test Error: \\n Accuracy: {(100*correct):>0.1f}%, Avg loss: {test_loss:>8f} \\n\")\n",
    "\n",
    "    history['val_loss'].append(test_loss)\n",
    "    history['accuracy'].append(correct)"
   ]
  },
  {
   "cell_type": "code",
   "execution_count": 17,
   "metadata": {},
   "outputs": [],
   "source": [
    "history = {'epoch' : [], \n",
    "           'test_loss' : [],\n",
    "           'val_loss': [],\n",
    "           'accuracy' : []\n",
    "}"
   ]
  },
  {
   "cell_type": "code",
   "execution_count": 18,
   "metadata": {},
   "outputs": [
    {
     "name": "stdout",
     "output_type": "stream",
     "text": [
      "Epoch 1\n",
      "-------------------------------\n",
      "loss: 2.293190  [   64/60000]\n",
      "loss: 0.420322  [ 6464/60000]\n",
      "loss: 0.142109  [12864/60000]\n",
      "loss: 0.163325  [19264/60000]\n",
      "loss: 0.151048  [25664/60000]\n",
      "loss: 0.336974  [32064/60000]\n",
      "loss: 0.128814  [38464/60000]\n",
      "loss: 0.217298  [44864/60000]\n",
      "loss: 0.226916  [51264/60000]\n",
      "loss: 0.139199  [57664/60000]\n",
      "Test Error: \n",
      " Accuracy: 97.4%, Avg loss: 0.091232 \n",
      "\n",
      "Epoch 2\n",
      "-------------------------------\n",
      "loss: 0.084043  [   64/60000]\n",
      "loss: 0.116076  [ 6464/60000]\n",
      "loss: 0.020170  [12864/60000]\n",
      "loss: 0.075703  [19264/60000]\n",
      "loss: 0.078890  [25664/60000]\n",
      "loss: 0.156442  [32064/60000]\n",
      "loss: 0.083272  [38464/60000]\n",
      "loss: 0.174621  [44864/60000]\n",
      "loss: 0.387920  [51264/60000]\n",
      "loss: 0.112356  [57664/60000]\n",
      "Test Error: \n",
      " Accuracy: 98.3%, Avg loss: 0.055008 \n",
      "\n",
      "Epoch 3\n",
      "-------------------------------\n",
      "loss: 0.036286  [   64/60000]\n",
      "loss: 0.128137  [ 6464/60000]\n",
      "loss: 0.130139  [12864/60000]\n",
      "loss: 0.072187  [19264/60000]\n",
      "loss: 0.014720  [25664/60000]\n",
      "loss: 0.085623  [32064/60000]\n",
      "loss: 0.064847  [38464/60000]\n",
      "loss: 0.073448  [44864/60000]\n",
      "loss: 0.225714  [51264/60000]\n",
      "loss: 0.037126  [57664/60000]\n",
      "Test Error: \n",
      " Accuracy: 98.1%, Avg loss: 0.074956 \n",
      "\n",
      "Epoch 4\n",
      "-------------------------------\n",
      "loss: 0.096246  [   64/60000]\n",
      "loss: 0.045310  [ 6464/60000]\n",
      "loss: 0.067115  [12864/60000]\n",
      "loss: 0.119360  [19264/60000]\n",
      "loss: 0.020110  [25664/60000]\n",
      "loss: 0.064718  [32064/60000]\n",
      "loss: 0.049552  [38464/60000]\n",
      "loss: 0.086014  [44864/60000]\n",
      "loss: 0.160431  [51264/60000]\n",
      "loss: 0.110528  [57664/60000]\n",
      "Test Error: \n",
      " Accuracy: 98.6%, Avg loss: 0.052535 \n",
      "\n",
      "Epoch 5\n",
      "-------------------------------\n",
      "loss: 0.071612  [   64/60000]\n",
      "loss: 0.027543  [ 6464/60000]\n",
      "loss: 0.139417  [12864/60000]\n",
      "loss: 0.077347  [19264/60000]\n",
      "loss: 0.013005  [25664/60000]\n",
      "loss: 0.019545  [32064/60000]\n",
      "loss: 0.056093  [38464/60000]\n",
      "loss: 0.117552  [44864/60000]\n",
      "loss: 0.220273  [51264/60000]\n",
      "loss: 0.110550  [57664/60000]\n",
      "Test Error: \n",
      " Accuracy: 98.9%, Avg loss: 0.040389 \n",
      "\n",
      "Epoch 6\n",
      "-------------------------------\n",
      "loss: 0.037343  [   64/60000]\n",
      "loss: 0.125761  [ 6464/60000]\n",
      "loss: 0.024636  [12864/60000]\n",
      "loss: 0.047052  [19264/60000]\n",
      "loss: 0.011298  [25664/60000]\n",
      "loss: 0.019048  [32064/60000]\n",
      "loss: 0.033849  [38464/60000]\n",
      "loss: 0.110449  [44864/60000]\n",
      "loss: 0.219474  [51264/60000]\n",
      "loss: 0.113410  [57664/60000]\n",
      "Test Error: \n",
      " Accuracy: 98.4%, Avg loss: 0.070176 \n",
      "\n",
      "Epoch 7\n",
      "-------------------------------\n",
      "loss: 0.024505  [   64/60000]\n",
      "loss: 0.022472  [ 6464/60000]\n",
      "loss: 0.056223  [12864/60000]\n",
      "loss: 0.038165  [19264/60000]\n",
      "loss: 0.037373  [25664/60000]\n",
      "loss: 0.031569  [32064/60000]\n",
      "loss: 0.076825  [38464/60000]\n",
      "loss: 0.049945  [44864/60000]\n",
      "loss: 0.152423  [51264/60000]\n",
      "loss: 0.014689  [57664/60000]\n",
      "Test Error: \n",
      " Accuracy: 98.6%, Avg loss: 0.048497 \n",
      "\n",
      "Epoch 8\n",
      "-------------------------------\n",
      "loss: 0.013506  [   64/60000]\n",
      "loss: 0.026332  [ 6464/60000]\n",
      "loss: 0.138750  [12864/60000]\n",
      "loss: 0.027257  [19264/60000]\n",
      "loss: 0.111599  [25664/60000]\n",
      "loss: 0.034284  [32064/60000]\n",
      "loss: 0.037770  [38464/60000]\n",
      "loss: 0.027911  [44864/60000]\n",
      "loss: 0.118849  [51264/60000]\n",
      "loss: 0.125997  [57664/60000]\n",
      "Test Error: \n",
      " Accuracy: 98.7%, Avg loss: 0.046734 \n",
      "\n",
      "Epoch 9\n",
      "-------------------------------\n",
      "loss: 0.012217  [   64/60000]\n",
      "loss: 0.038885  [ 6464/60000]\n",
      "loss: 0.101653  [12864/60000]\n",
      "loss: 0.108348  [19264/60000]\n",
      "loss: 0.061848  [25664/60000]\n",
      "loss: 0.004125  [32064/60000]\n",
      "loss: 0.047813  [38464/60000]\n",
      "loss: 0.033455  [44864/60000]\n",
      "loss: 0.103995  [51264/60000]\n",
      "loss: 0.042343  [57664/60000]\n",
      "Test Error: \n",
      " Accuracy: 98.8%, Avg loss: 0.040250 \n",
      "\n",
      "Epoch 10\n",
      "-------------------------------\n",
      "loss: 0.014039  [   64/60000]\n",
      "loss: 0.048878  [ 6464/60000]\n",
      "loss: 0.033654  [12864/60000]\n",
      "loss: 0.008721  [19264/60000]\n",
      "loss: 0.080870  [25664/60000]\n",
      "loss: 0.067906  [32064/60000]\n",
      "loss: 0.050608  [38464/60000]\n",
      "loss: 0.050035  [44864/60000]\n",
      "loss: 0.093152  [51264/60000]\n",
      "loss: 0.074628  [57664/60000]\n",
      "Test Error: \n",
      " Accuracy: 98.9%, Avg loss: 0.040503 \n",
      "\n",
      "Done!\n"
     ]
    }
   ],
   "source": [
    "for t in range(epochs):\n",
    "    history['epoch'].append(t+1)\n",
    "    print(f\"Epoch {t+1}\\n-------------------------------\")\n",
    "    train_loop(train_dataloader, model, loss_fn, optimiser, history)\n",
    "    test_loop(test_dataloader, model, loss_fn, history)\n",
    "print(\"Done!\")"
   ]
  },
  {
   "cell_type": "code",
   "execution_count": 19,
   "metadata": {},
   "outputs": [],
   "source": [
    "epochs = [item for item in history['epoch']]\n",
    "test_losses = [item.item() for item in history['test_loss']]\n",
    "val_losses = [item for item in history['val_loss']]"
   ]
  },
  {
   "cell_type": "code",
   "execution_count": 29,
   "metadata": {},
   "outputs": [
    {
     "data": {
      "image/png": "[encoded data removed]",
      "text/plain": [
       "<Figure size 800x600 with 1 Axes>"
      ]
     },
     "metadata": {},
     "output_type": "display_data"
    }
   ],
   "source": [
    "plt.figure(figsize = (8, 6))\n",
    "plt.plot(epochs, test_losses, color = 'blue', label = \"Train Loss\")\n",
    "plt.plot(epochs, val_losses, color = 'red', label = \"Test Loss\")\n",
    "plt.legend()\n",
    "plt.tight_layout()\n",
    "plt.grid()\n",
    "plt.show()"
   ]
  },
  {
   "cell_type": "code",
   "execution_count": 30,
   "metadata": {},
   "outputs": [
    {
     "data": {
      "image/png": "[encoded data removed]",
      "text/plain": [
       "<Figure size 800x600 with 1 Axes>"
      ]
     },
     "metadata": {},
     "output_type": "display_data"
    }
   ],
   "source": [
    "plt.figure(figsize = (8, 6))\n",
    "plt.plot(epochs, 100*np.array(history['accuracy']), color = 'blue')\n",
    "plt.xlabel(\"Epoch\")\n",
    "plt.ylabel(\"Accuracy\")\n",
    "plt.grid()\n",
    "plt.tight_layout()"
   ]
  }
 ],
 "metadata": {
  "kernelspec": {
   "display_name": "mnist_practice_venv",
   "language": "python",
   "name": "python3"
  },
  "language_info": {
   "codemirror_mode": {
    "name": "ipython",
    "version": 3
   },
   "file_extension": ".py",
   "mimetype": "text/x-python",
   "name": "python",
   "nbconvert_exporter": "python",
   "pygments_lexer": "ipython3",
   "version": "3.12.7"
  }
 },
 "nbformat": 4,
 "nbformat_minor": 2
}
