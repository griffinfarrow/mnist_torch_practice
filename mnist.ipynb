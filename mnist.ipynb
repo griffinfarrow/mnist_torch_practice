{
 "cells": [
  {
   "cell_type": "markdown",
   "metadata": {},
   "source": [
    "# MNIST Classifier  \n",
    "  \n",
    "Using Pytorch and CNNs to build a classifier for the MNIST dataset"
   ]
  },
  {
   "cell_type": "code",
   "execution_count": 70,
   "metadata": {},
   "outputs": [],
   "source": [
    "import torch\n",
    "from torch.utils.data import DataLoader\n",
    "from torchvision import datasets\n",
    "from torchvision.transforms import ToTensor"
   ]
  },
  {
   "cell_type": "markdown",
   "metadata": {},
   "source": [
    "## Data Read"
   ]
  },
  {
   "cell_type": "code",
   "execution_count": null,
   "metadata": {},
   "outputs": [],
   "source": [
    "from torchvision import transforms"
   ]
  },
  {
   "cell_type": "code",
   "execution_count": null,
   "metadata": {},
   "outputs": [],
   "source": [
    "custom_train_transform = transforms.Compose([\n",
    "    transforms.ToTensor(),  # Converts image to a PyTorch tensor\n",
    "    transforms.GaussianBlur(kernel_size=5, sigma=(0.1, 2.0)),  # Apply Gaussian blur\n",
    "    transforms.RandomRotation(degrees=30),  # Apply random rotation (range: -30 to +30 degrees)\n",
    "])\n",
    "custom_val_transform = transforms.Compose([\n",
    "    transforms.ToTensor() # Converts image to a PyTorch tensor\n",
    "])"
   ]
  },
  {
   "cell_type": "code",
   "execution_count": 71,
   "metadata": {},
   "outputs": [],
   "source": [
    "## Read in MNIST dataset\n",
    "\n",
    "training_data = datasets.MNIST(\n",
    "    root=\"data\",\n",
    "    train=True,\n",
    "    download=True,\n",
    "    transform=custom_train_transform\n",
    ")\n",
    "\n",
    "test_data = datasets.MNIST(\n",
    "    root=\"data\",\n",
    "    train=False,\n",
    "    download=True,\n",
    "    transform=custom_val_transform\n",
    ")\n"
   ]
  },
  {
   "cell_type": "code",
   "execution_count": 72,
   "metadata": {},
   "outputs": [
    {
     "name": "stdout",
     "output_type": "stream",
     "text": [
      "0\n",
      "label =  [5]\n"
     ]
    },
    {
     "data": {
      "image/png": "[encoded data removed]",
      "text/plain": [
       "<Figure size 640x480 with 1 Axes>"
      ]
     },
     "metadata": {},
     "output_type": "display_data"
    }
   ],
   "source": [
    "import matplotlib.pyplot as plt \n",
    "\n",
    "# Playing around a bit with DataLoaders so we can understand what is going on\n",
    "\n",
    "train_dataloader = DataLoader(training_data, batch_size=1, num_workers=1)\n",
    "test_dataloader = DataLoader(test_data, batch_size=1, num_workers=1)\n",
    "\n",
    "for batch, (img, label) in enumerate(train_dataloader):\n",
    "    print(batch)\n",
    "    print(\"label = \", label.numpy())\n",
    "    plt.figure()\n",
    "    plt.imshow(img.squeeze(), cmap='grey')\n",
    "    plt.show()\n",
    "    break"
   ]
  },
  {
   "cell_type": "markdown",
   "metadata": {},
   "source": [
    "## Define the Model"
   ]
  },
  {
   "cell_type": "code",
   "execution_count": 73,
   "metadata": {},
   "outputs": [],
   "source": [
    "import torch.nn as nn \n",
    "import torch.nn.functional as F"
   ]
  },
  {
   "cell_type": "code",
   "execution_count": 74,
   "metadata": {},
   "outputs": [],
   "source": [
    "import torch\n",
    "import torch.nn as nn\n",
    "import torch.nn.functional as F\n",
    "\n",
    "class Griff_CNN(nn.Module):\n",
    "\n",
    "    def __init__(self):\n",
    "        super(Griff_CNN, self).__init__()\n",
    "\n",
    "        # First convolutional layer + batch normalization\n",
    "        self.conv1 = nn.Conv2d(in_channels=1, out_channels=16, kernel_size=3, stride=1, padding=1) # should be 16x28x28 after\n",
    "        self.bn1 = nn.BatchNorm2d(16)  # BatchNorm for 16 channels\n",
    "        self.pool1 = nn.MaxPool2d(kernel_size=2, stride=2)  # should be 16x14x14 after\n",
    "        \n",
    "        # Second convolutional layer + batch normalization\n",
    "        self.conv2 = nn.Conv2d(in_channels=16, out_channels=24, kernel_size=3, stride=1, padding=1) # should be 24x14x14 after\n",
    "        self.bn2 = nn.BatchNorm2d(24)  # BatchNorm for 24 channels\n",
    "        self.pool2 = nn.MaxPool2d(kernel_size=2, stride=2)  # should be 24x7x7 after\n",
    "        \n",
    "        # Fully connected layers\n",
    "        self.fc1 = nn.Linear(in_features=24*7*7, out_features=512)\n",
    "        self.fc2 = nn.Linear(in_features=512, out_features=256)\n",
    "        self.fc3 = nn.Linear(in_features=256, out_features=10)\n",
    "\n",
    "    def forward(self, x): \n",
    "        # First convolution block\n",
    "        x = self.conv1(x)\n",
    "        x = self.bn1(x)  # Batch Normalization after convolution\n",
    "        x = F.relu(x)  # Apply ReLU after BatchNorm\n",
    "        x = self.pool1(x)  # Max pooling\n",
    "        \n",
    "        # Second convolution block\n",
    "        x = self.conv2(x)\n",
    "        x = self.bn2(x)  # Batch Normalization after convolution\n",
    "        x = F.relu(x)  # Apply ReLU after BatchNorm\n",
    "        x = self.pool2(x)  # Max pooling\n",
    "        \n",
    "        # Flatten the tensor for fully connected layers\n",
    "        x = torch.flatten(x, start_dim=1)\n",
    "        \n",
    "        # Fully connected layers\n",
    "        x = F.relu(self.fc1(x))\n",
    "        x = F.relu(self.fc2(x))\n",
    "        x = self.fc3(x)  # Final output\n",
    "        \n",
    "        return x\n"
   ]
  },
  {
   "cell_type": "code",
   "execution_count": 75,
   "metadata": {},
   "outputs": [
    {
     "name": "stdout",
     "output_type": "stream",
     "text": [
      "Using mps device\n"
     ]
    }
   ],
   "source": [
    "device = (\n",
    "    \"cuda\"\n",
    "    if torch.cuda.is_available()\n",
    "    else \"mps\"\n",
    "    if torch.backends.mps.is_available()\n",
    "    else \"cpu\"\n",
    ")\n",
    "print(f\"Using {device} device\")"
   ]
  },
  {
   "cell_type": "code",
   "execution_count": 76,
   "metadata": {},
   "outputs": [],
   "source": [
    "model = Griff_CNN().to(device)"
   ]
  },
  {
   "cell_type": "code",
   "execution_count": 77,
   "metadata": {},
   "outputs": [
    {
     "name": "stdout",
     "output_type": "stream",
     "text": [
      "tensor([[-0.0818, -0.0975, -0.0950,  0.0195,  0.1488,  0.0071, -0.0303,  0.0396,\n",
      "          0.0663, -0.0863]], device='mps:0', grad_fn=<LinearBackward0>)\n"
     ]
    }
   ],
   "source": [
    "# test that results are sensible\n",
    "\n",
    "input_tensor = torch.randn(1, 1, 28, 28).to(device)\n",
    "output = model(input_tensor)\n",
    "print(output)"
   ]
  },
  {
   "cell_type": "markdown",
   "metadata": {},
   "source": [
    "## Training"
   ]
  },
  {
   "cell_type": "code",
   "execution_count": 78,
   "metadata": {},
   "outputs": [],
   "source": [
    "loss_fn = nn.CrossEntropyLoss()"
   ]
  },
  {
   "cell_type": "code",
   "execution_count": 79,
   "metadata": {},
   "outputs": [],
   "source": [
    "# Define key hyperparameters\n",
    "\n",
    "batchsize = 64 # mini-batch size \n",
    "nworkers = 4\n",
    "lr = 1.0e-3 # learning rate\n",
    "epochs = 10 # number of training epochs \n",
    "# ADAM optimiser parameter\n",
    "beta1 = 0.9 \n",
    "beta2 = 0.999 \n",
    "eps = 1.0e-8\n",
    "lambd = 1.0e-4"
   ]
  },
  {
   "cell_type": "code",
   "execution_count": 80,
   "metadata": {},
   "outputs": [],
   "source": [
    "# Define optimiser\n",
    "optimiser = torch.optim.Adam(model.parameters(), \n",
    "                             lr=lr, \n",
    "                             betas=(beta1, beta2), \n",
    "                             eps=eps, \n",
    "                             weight_decay=lambd)"
   ]
  },
  {
   "cell_type": "code",
   "execution_count": 81,
   "metadata": {},
   "outputs": [],
   "source": [
    "train_dataloader = DataLoader(training_data, batch_size=batchsize, num_workers=nworkers)\n",
    "test_dataloader = DataLoader(test_data, batch_size=batchsize, num_workers=nworkers)"
   ]
  },
  {
   "cell_type": "code",
   "execution_count": 82,
   "metadata": {},
   "outputs": [],
   "source": [
    "def train_loop(dataloader, model, loss_fn, optimizer, history):\n",
    "    \n",
    "    size = len(dataloader.dataset)\n",
    "    model.train()\n",
    "\n",
    "    for batch, (X, y) in enumerate(dataloader):\n",
    "        X, y = X.to(device), y.to(device)\n",
    "        # forward prediction\n",
    "        pred = model(X) \n",
    "        loss = loss_fn(pred, y)\n",
    "\n",
    "        # backpropagation\n",
    "        loss.backward()\n",
    "        optimizer.step()\n",
    "        optimizer.zero_grad()\n",
    "\n",
    "        if batch % 100 == 0:\n",
    "            loss, current = loss.item(), batch * batchsize + len(X)\n",
    "            print(f\"loss: {loss:>7f}  [{current:>5d}/{size:>5d}]\")\n",
    "\n",
    "    history['test_loss'].append(loss)"
   ]
  },
  {
   "cell_type": "code",
   "execution_count": 83,
   "metadata": {},
   "outputs": [],
   "source": [
    "def test_loop(dataloader, model, loss_fn, history):\n",
    "    model.eval()\n",
    "    size = len(dataloader.dataset)\n",
    "    num_batches = len(dataloader)\n",
    "    test_loss, correct = 0., 0. \n",
    "\n",
    "    with torch.no_grad(): \n",
    "        for X, y in dataloader:\n",
    "            X, y = X.to(device), y.to(device)\n",
    "            pred = model(X) \n",
    "            test_loss += loss_fn(pred, y).item()\n",
    "            correct += (pred.argmax(1) == y).type(torch.float).sum().item()\n",
    "\n",
    "    test_loss /= num_batches \n",
    "    correct /= size \n",
    "    print(f\"Test Error: \\n Accuracy: {(100*correct):>0.1f}%, Avg loss: {test_loss:>8f} \\n\")\n",
    "\n",
    "    history['val_loss'].append(test_loss)\n",
    "    history['accuracy'].append(correct)"
   ]
  },
  {
   "cell_type": "code",
   "execution_count": 84,
   "metadata": {},
   "outputs": [],
   "source": [
    "history = {'epoch' : [], \n",
    "           'test_loss' : [],\n",
    "           'val_loss': [],\n",
    "           'accuracy' : []\n",
    "}"
   ]
  },
  {
   "cell_type": "code",
   "execution_count": 85,
   "metadata": {},
   "outputs": [
    {
     "name": "stdout",
     "output_type": "stream",
     "text": [
      "Epoch 1\n",
      "-------------------------------\n",
      "loss: 2.303391  [   64/60000]\n",
      "loss: 0.133347  [ 6464/60000]\n",
      "loss: 0.131956  [12864/60000]\n",
      "loss: 0.064049  [19264/60000]\n",
      "loss: 0.110302  [25664/60000]\n",
      "loss: 0.126424  [32064/60000]\n",
      "loss: 0.086122  [38464/60000]\n",
      "loss: 0.192132  [44864/60000]\n",
      "loss: 0.140209  [51264/60000]\n",
      "loss: 0.028687  [57664/60000]\n",
      "Test Error: \n",
      " Accuracy: 98.1%, Avg loss: 0.057074 \n",
      "\n",
      "Epoch 2\n",
      "-------------------------------\n",
      "loss: 0.026929  [   64/60000]\n",
      "loss: 0.083173  [ 6464/60000]\n",
      "loss: 0.065631  [12864/60000]\n",
      "loss: 0.017131  [19264/60000]\n",
      "loss: 0.049385  [25664/60000]\n",
      "loss: 0.024975  [32064/60000]\n",
      "loss: 0.049445  [38464/60000]\n",
      "loss: 0.022071  [44864/60000]\n",
      "loss: 0.085519  [51264/60000]\n",
      "loss: 0.015511  [57664/60000]\n",
      "Test Error: \n",
      " Accuracy: 98.7%, Avg loss: 0.043373 \n",
      "\n",
      "Epoch 3\n",
      "-------------------------------\n",
      "loss: 0.026244  [   64/60000]\n",
      "loss: 0.087121  [ 6464/60000]\n",
      "loss: 0.045486  [12864/60000]\n",
      "loss: 0.015114  [19264/60000]\n",
      "loss: 0.007643  [25664/60000]\n",
      "loss: 0.013999  [32064/60000]\n",
      "loss: 0.041806  [38464/60000]\n",
      "loss: 0.030558  [44864/60000]\n",
      "loss: 0.105405  [51264/60000]\n",
      "loss: 0.044490  [57664/60000]\n",
      "Test Error: \n",
      " Accuracy: 99.0%, Avg loss: 0.033298 \n",
      "\n",
      "Epoch 4\n",
      "-------------------------------\n",
      "loss: 0.022182  [   64/60000]\n",
      "loss: 0.022380  [ 6464/60000]\n",
      "loss: 0.017514  [12864/60000]\n",
      "loss: 0.032104  [19264/60000]\n",
      "loss: 0.017716  [25664/60000]\n",
      "loss: 0.099899  [32064/60000]\n",
      "loss: 0.035292  [38464/60000]\n",
      "loss: 0.054067  [44864/60000]\n",
      "loss: 0.116752  [51264/60000]\n",
      "loss: 0.033681  [57664/60000]\n",
      "Test Error: \n",
      " Accuracy: 98.7%, Avg loss: 0.042339 \n",
      "\n",
      "Epoch 5\n",
      "-------------------------------\n",
      "loss: 0.004585  [   64/60000]\n",
      "loss: 0.003510  [ 6464/60000]\n",
      "loss: 0.112595  [12864/60000]\n",
      "loss: 0.013572  [19264/60000]\n",
      "loss: 0.012716  [25664/60000]\n",
      "loss: 0.006360  [32064/60000]\n",
      "loss: 0.037084  [38464/60000]\n",
      "loss: 0.024426  [44864/60000]\n",
      "loss: 0.030024  [51264/60000]\n",
      "loss: 0.008204  [57664/60000]\n",
      "Test Error: \n",
      " Accuracy: 98.8%, Avg loss: 0.042678 \n",
      "\n",
      "Epoch 6\n",
      "-------------------------------\n",
      "loss: 0.005311  [   64/60000]\n",
      "loss: 0.012579  [ 6464/60000]\n",
      "loss: 0.004586  [12864/60000]\n",
      "loss: 0.032787  [19264/60000]\n",
      "loss: 0.006511  [25664/60000]\n",
      "loss: 0.011799  [32064/60000]\n",
      "loss: 0.021095  [38464/60000]\n",
      "loss: 0.004981  [44864/60000]\n",
      "loss: 0.093490  [51264/60000]\n",
      "loss: 0.015686  [57664/60000]\n",
      "Test Error: \n",
      " Accuracy: 98.9%, Avg loss: 0.039901 \n",
      "\n",
      "Epoch 7\n",
      "-------------------------------\n",
      "loss: 0.005493  [   64/60000]\n",
      "loss: 0.007533  [ 6464/60000]\n",
      "loss: 0.008893  [12864/60000]\n",
      "loss: 0.045817  [19264/60000]\n",
      "loss: 0.003393  [25664/60000]\n",
      "loss: 0.007132  [32064/60000]\n",
      "loss: 0.003537  [38464/60000]\n",
      "loss: 0.003612  [44864/60000]\n",
      "loss: 0.060841  [51264/60000]\n",
      "loss: 0.026867  [57664/60000]\n",
      "Test Error: \n",
      " Accuracy: 99.0%, Avg loss: 0.034422 \n",
      "\n",
      "Epoch 8\n",
      "-------------------------------\n",
      "loss: 0.000513  [   64/60000]\n",
      "loss: 0.001538  [ 6464/60000]\n",
      "loss: 0.075432  [12864/60000]\n",
      "loss: 0.005326  [19264/60000]\n",
      "loss: 0.013728  [25664/60000]\n",
      "loss: 0.037700  [32064/60000]\n",
      "loss: 0.006134  [38464/60000]\n",
      "loss: 0.002209  [44864/60000]\n",
      "loss: 0.010532  [51264/60000]\n",
      "loss: 0.009350  [57664/60000]\n",
      "Test Error: \n",
      " Accuracy: 98.8%, Avg loss: 0.044937 \n",
      "\n",
      "Epoch 9\n",
      "-------------------------------\n",
      "loss: 0.003413  [   64/60000]\n",
      "loss: 0.000661  [ 6464/60000]\n",
      "loss: 0.003888  [12864/60000]\n",
      "loss: 0.178841  [19264/60000]\n",
      "loss: 0.000996  [25664/60000]\n",
      "loss: 0.040426  [32064/60000]\n",
      "loss: 0.010821  [38464/60000]\n",
      "loss: 0.008833  [44864/60000]\n",
      "loss: 0.019370  [51264/60000]\n",
      "loss: 0.022479  [57664/60000]\n",
      "Test Error: \n",
      " Accuracy: 99.1%, Avg loss: 0.032452 \n",
      "\n",
      "Epoch 10\n",
      "-------------------------------\n",
      "loss: 0.005943  [   64/60000]\n",
      "loss: 0.057780  [ 6464/60000]\n",
      "loss: 0.028028  [12864/60000]\n",
      "loss: 0.000173  [19264/60000]\n",
      "loss: 0.020602  [25664/60000]\n",
      "loss: 0.008355  [32064/60000]\n",
      "loss: 0.000226  [38464/60000]\n",
      "loss: 0.002228  [44864/60000]\n",
      "loss: 0.028031  [51264/60000]\n",
      "loss: 0.015925  [57664/60000]\n",
      "Test Error: \n",
      " Accuracy: 98.9%, Avg loss: 0.040817 \n",
      "\n",
      "Done!\n"
     ]
    }
   ],
   "source": [
    "for t in range(epochs):\n",
    "    history['epoch'].append(t+1)\n",
    "    print(f\"Epoch {t+1}\\n-------------------------------\")\n",
    "    train_loop(train_dataloader, model, loss_fn, optimiser, history)\n",
    "    test_loop(test_dataloader, model, loss_fn, history)\n",
    "print(\"Done!\")"
   ]
  },
  {
   "cell_type": "code",
   "execution_count": 86,
   "metadata": {},
   "outputs": [],
   "source": [
    "epochs = [item for item in history['epoch']]\n",
    "test_losses = [item.item() for item in history['test_loss']]\n",
    "val_losses = [item for item in history['val_loss']]"
   ]
  },
  {
   "cell_type": "code",
   "execution_count": 87,
   "metadata": {},
   "outputs": [
    {
     "ename": "ValueError",
     "evalue": "x and y must have same first dimension, but have shapes (9,) and (10,)",
     "output_type": "error",
     "traceback": [
      "\u001b[0;31m---------------------------------------------------------------------------\u001b[0m",
      "\u001b[0;31mValueError\u001b[0m                                Traceback (most recent call last)",
      "Cell \u001b[0;32mIn[87], line 2\u001b[0m\n\u001b[1;32m      1\u001b[0m plt\u001b[38;5;241m.\u001b[39mfigure()\n\u001b[0;32m----> 2\u001b[0m \u001b[43mplt\u001b[49m\u001b[38;5;241;43m.\u001b[39;49m\u001b[43mplot\u001b[49m\u001b[43m(\u001b[49m\u001b[43mepochs\u001b[49m\u001b[43m[\u001b[49m\u001b[38;5;241;43m1\u001b[39;49m\u001b[43m:\u001b[49m\u001b[43m]\u001b[49m\u001b[43m,\u001b[49m\u001b[43m \u001b[49m\u001b[43mtest_losses\u001b[49m\u001b[43m,\u001b[49m\u001b[43m \u001b[49m\u001b[43mcolor\u001b[49m\u001b[43m \u001b[49m\u001b[38;5;241;43m=\u001b[39;49m\u001b[43m \u001b[49m\u001b[38;5;124;43m'\u001b[39;49m\u001b[38;5;124;43mblue\u001b[39;49m\u001b[38;5;124;43m'\u001b[39;49m\u001b[43m,\u001b[49m\u001b[43m \u001b[49m\u001b[43mlabel\u001b[49m\u001b[43m \u001b[49m\u001b[38;5;241;43m=\u001b[39;49m\u001b[43m \u001b[49m\u001b[38;5;124;43m\"\u001b[39;49m\u001b[38;5;124;43mTrain Loss\u001b[39;49m\u001b[38;5;124;43m\"\u001b[39;49m\u001b[43m)\u001b[49m\n\u001b[1;32m      3\u001b[0m plt\u001b[38;5;241m.\u001b[39mplot(epochs[\u001b[38;5;241m1\u001b[39m:], val_losses, color \u001b[38;5;241m=\u001b[39m \u001b[38;5;124m'\u001b[39m\u001b[38;5;124mred\u001b[39m\u001b[38;5;124m'\u001b[39m, label \u001b[38;5;241m=\u001b[39m \u001b[38;5;124m\"\u001b[39m\u001b[38;5;124mTest Loss\u001b[39m\u001b[38;5;124m\"\u001b[39m)\n\u001b[1;32m      4\u001b[0m plt\u001b[38;5;241m.\u001b[39mlegend()\n",
      "File \u001b[0;32m~/Documents/Data_Science_Projects/mnist_classification_pytorch/mnist_practice_venv/lib/python3.12/site-packages/matplotlib/pyplot.py:3829\u001b[0m, in \u001b[0;36mplot\u001b[0;34m(scalex, scaley, data, *args, **kwargs)\u001b[0m\n\u001b[1;32m   3821\u001b[0m \u001b[38;5;129m@_copy_docstring_and_deprecators\u001b[39m(Axes\u001b[38;5;241m.\u001b[39mplot)\n\u001b[1;32m   3822\u001b[0m \u001b[38;5;28;01mdef\u001b[39;00m\u001b[38;5;250m \u001b[39m\u001b[38;5;21mplot\u001b[39m(\n\u001b[1;32m   3823\u001b[0m     \u001b[38;5;241m*\u001b[39margs: \u001b[38;5;28mfloat\u001b[39m \u001b[38;5;241m|\u001b[39m ArrayLike \u001b[38;5;241m|\u001b[39m \u001b[38;5;28mstr\u001b[39m,\n\u001b[0;32m   (...)\u001b[0m\n\u001b[1;32m   3827\u001b[0m     \u001b[38;5;241m*\u001b[39m\u001b[38;5;241m*\u001b[39mkwargs,\n\u001b[1;32m   3828\u001b[0m ) \u001b[38;5;241m-\u001b[39m\u001b[38;5;241m>\u001b[39m \u001b[38;5;28mlist\u001b[39m[Line2D]:\n\u001b[0;32m-> 3829\u001b[0m     \u001b[38;5;28;01mreturn\u001b[39;00m \u001b[43mgca\u001b[49m\u001b[43m(\u001b[49m\u001b[43m)\u001b[49m\u001b[38;5;241;43m.\u001b[39;49m\u001b[43mplot\u001b[49m\u001b[43m(\u001b[49m\n\u001b[1;32m   3830\u001b[0m \u001b[43m        \u001b[49m\u001b[38;5;241;43m*\u001b[39;49m\u001b[43margs\u001b[49m\u001b[43m,\u001b[49m\n\u001b[1;32m   3831\u001b[0m \u001b[43m        \u001b[49m\u001b[43mscalex\u001b[49m\u001b[38;5;241;43m=\u001b[39;49m\u001b[43mscalex\u001b[49m\u001b[43m,\u001b[49m\n\u001b[1;32m   3832\u001b[0m \u001b[43m        \u001b[49m\u001b[43mscaley\u001b[49m\u001b[38;5;241;43m=\u001b[39;49m\u001b[43mscaley\u001b[49m\u001b[43m,\u001b[49m\n\u001b[1;32m   3833\u001b[0m \u001b[43m        \u001b[49m\u001b[38;5;241;43m*\u001b[39;49m\u001b[38;5;241;43m*\u001b[39;49m\u001b[43m(\u001b[49m\u001b[43m{\u001b[49m\u001b[38;5;124;43m\"\u001b[39;49m\u001b[38;5;124;43mdata\u001b[39;49m\u001b[38;5;124;43m\"\u001b[39;49m\u001b[43m:\u001b[49m\u001b[43m \u001b[49m\u001b[43mdata\u001b[49m\u001b[43m}\u001b[49m\u001b[43m \u001b[49m\u001b[38;5;28;43;01mif\u001b[39;49;00m\u001b[43m \u001b[49m\u001b[43mdata\u001b[49m\u001b[43m \u001b[49m\u001b[38;5;129;43;01mis\u001b[39;49;00m\u001b[43m \u001b[49m\u001b[38;5;129;43;01mnot\u001b[39;49;00m\u001b[43m \u001b[49m\u001b[38;5;28;43;01mNone\u001b[39;49;00m\u001b[43m \u001b[49m\u001b[38;5;28;43;01melse\u001b[39;49;00m\u001b[43m \u001b[49m\u001b[43m{\u001b[49m\u001b[43m}\u001b[49m\u001b[43m)\u001b[49m\u001b[43m,\u001b[49m\n\u001b[1;32m   3834\u001b[0m \u001b[43m        \u001b[49m\u001b[38;5;241;43m*\u001b[39;49m\u001b[38;5;241;43m*\u001b[39;49m\u001b[43mkwargs\u001b[49m\u001b[43m,\u001b[49m\n\u001b[1;32m   3835\u001b[0m \u001b[43m    \u001b[49m\u001b[43m)\u001b[49m\n",
      "File \u001b[0;32m~/Documents/Data_Science_Projects/mnist_classification_pytorch/mnist_practice_venv/lib/python3.12/site-packages/matplotlib/axes/_axes.py:1777\u001b[0m, in \u001b[0;36mAxes.plot\u001b[0;34m(self, scalex, scaley, data, *args, **kwargs)\u001b[0m\n\u001b[1;32m   1534\u001b[0m \u001b[38;5;250m\u001b[39m\u001b[38;5;124;03m\"\"\"\u001b[39;00m\n\u001b[1;32m   1535\u001b[0m \u001b[38;5;124;03mPlot y versus x as lines and/or markers.\u001b[39;00m\n\u001b[1;32m   1536\u001b[0m \n\u001b[0;32m   (...)\u001b[0m\n\u001b[1;32m   1774\u001b[0m \u001b[38;5;124;03m(``'green'``) or hex strings (``'#008000'``).\u001b[39;00m\n\u001b[1;32m   1775\u001b[0m \u001b[38;5;124;03m\"\"\"\u001b[39;00m\n\u001b[1;32m   1776\u001b[0m kwargs \u001b[38;5;241m=\u001b[39m cbook\u001b[38;5;241m.\u001b[39mnormalize_kwargs(kwargs, mlines\u001b[38;5;241m.\u001b[39mLine2D)\n\u001b[0;32m-> 1777\u001b[0m lines \u001b[38;5;241m=\u001b[39m [\u001b[38;5;241m*\u001b[39m\u001b[38;5;28mself\u001b[39m\u001b[38;5;241m.\u001b[39m_get_lines(\u001b[38;5;28mself\u001b[39m, \u001b[38;5;241m*\u001b[39margs, data\u001b[38;5;241m=\u001b[39mdata, \u001b[38;5;241m*\u001b[39m\u001b[38;5;241m*\u001b[39mkwargs)]\n\u001b[1;32m   1778\u001b[0m \u001b[38;5;28;01mfor\u001b[39;00m line \u001b[38;5;129;01min\u001b[39;00m lines:\n\u001b[1;32m   1779\u001b[0m     \u001b[38;5;28mself\u001b[39m\u001b[38;5;241m.\u001b[39madd_line(line)\n",
      "File \u001b[0;32m~/Documents/Data_Science_Projects/mnist_classification_pytorch/mnist_practice_venv/lib/python3.12/site-packages/matplotlib/axes/_base.py:297\u001b[0m, in \u001b[0;36m_process_plot_var_args.__call__\u001b[0;34m(self, axes, data, return_kwargs, *args, **kwargs)\u001b[0m\n\u001b[1;32m    295\u001b[0m     this \u001b[38;5;241m+\u001b[39m\u001b[38;5;241m=\u001b[39m args[\u001b[38;5;241m0\u001b[39m],\n\u001b[1;32m    296\u001b[0m     args \u001b[38;5;241m=\u001b[39m args[\u001b[38;5;241m1\u001b[39m:]\n\u001b[0;32m--> 297\u001b[0m \u001b[38;5;28;01myield from\u001b[39;00m \u001b[38;5;28;43mself\u001b[39;49m\u001b[38;5;241;43m.\u001b[39;49m\u001b[43m_plot_args\u001b[49m\u001b[43m(\u001b[49m\n\u001b[1;32m    298\u001b[0m \u001b[43m    \u001b[49m\u001b[43maxes\u001b[49m\u001b[43m,\u001b[49m\u001b[43m \u001b[49m\u001b[43mthis\u001b[49m\u001b[43m,\u001b[49m\u001b[43m \u001b[49m\u001b[43mkwargs\u001b[49m\u001b[43m,\u001b[49m\u001b[43m \u001b[49m\u001b[43mambiguous_fmt_datakey\u001b[49m\u001b[38;5;241;43m=\u001b[39;49m\u001b[43mambiguous_fmt_datakey\u001b[49m\u001b[43m,\u001b[49m\n\u001b[1;32m    299\u001b[0m \u001b[43m    \u001b[49m\u001b[43mreturn_kwargs\u001b[49m\u001b[38;5;241;43m=\u001b[39;49m\u001b[43mreturn_kwargs\u001b[49m\n\u001b[1;32m    300\u001b[0m \u001b[43m\u001b[49m\u001b[43m)\u001b[49m\n",
      "File \u001b[0;32m~/Documents/Data_Science_Projects/mnist_classification_pytorch/mnist_practice_venv/lib/python3.12/site-packages/matplotlib/axes/_base.py:494\u001b[0m, in \u001b[0;36m_process_plot_var_args._plot_args\u001b[0;34m(self, axes, tup, kwargs, return_kwargs, ambiguous_fmt_datakey)\u001b[0m\n\u001b[1;32m    491\u001b[0m     axes\u001b[38;5;241m.\u001b[39myaxis\u001b[38;5;241m.\u001b[39mupdate_units(y)\n\u001b[1;32m    493\u001b[0m \u001b[38;5;28;01mif\u001b[39;00m x\u001b[38;5;241m.\u001b[39mshape[\u001b[38;5;241m0\u001b[39m] \u001b[38;5;241m!=\u001b[39m y\u001b[38;5;241m.\u001b[39mshape[\u001b[38;5;241m0\u001b[39m]:\n\u001b[0;32m--> 494\u001b[0m     \u001b[38;5;28;01mraise\u001b[39;00m \u001b[38;5;167;01mValueError\u001b[39;00m(\u001b[38;5;124mf\u001b[39m\u001b[38;5;124m\"\u001b[39m\u001b[38;5;124mx and y must have same first dimension, but \u001b[39m\u001b[38;5;124m\"\u001b[39m\n\u001b[1;32m    495\u001b[0m                      \u001b[38;5;124mf\u001b[39m\u001b[38;5;124m\"\u001b[39m\u001b[38;5;124mhave shapes \u001b[39m\u001b[38;5;132;01m{\u001b[39;00mx\u001b[38;5;241m.\u001b[39mshape\u001b[38;5;132;01m}\u001b[39;00m\u001b[38;5;124m and \u001b[39m\u001b[38;5;132;01m{\u001b[39;00my\u001b[38;5;241m.\u001b[39mshape\u001b[38;5;132;01m}\u001b[39;00m\u001b[38;5;124m\"\u001b[39m)\n\u001b[1;32m    496\u001b[0m \u001b[38;5;28;01mif\u001b[39;00m x\u001b[38;5;241m.\u001b[39mndim \u001b[38;5;241m>\u001b[39m \u001b[38;5;241m2\u001b[39m \u001b[38;5;129;01mor\u001b[39;00m y\u001b[38;5;241m.\u001b[39mndim \u001b[38;5;241m>\u001b[39m \u001b[38;5;241m2\u001b[39m:\n\u001b[1;32m    497\u001b[0m     \u001b[38;5;28;01mraise\u001b[39;00m \u001b[38;5;167;01mValueError\u001b[39;00m(\u001b[38;5;124mf\u001b[39m\u001b[38;5;124m\"\u001b[39m\u001b[38;5;124mx and y can be no greater than 2D, but have \u001b[39m\u001b[38;5;124m\"\u001b[39m\n\u001b[1;32m    498\u001b[0m                      \u001b[38;5;124mf\u001b[39m\u001b[38;5;124m\"\u001b[39m\u001b[38;5;124mshapes \u001b[39m\u001b[38;5;132;01m{\u001b[39;00mx\u001b[38;5;241m.\u001b[39mshape\u001b[38;5;132;01m}\u001b[39;00m\u001b[38;5;124m and \u001b[39m\u001b[38;5;132;01m{\u001b[39;00my\u001b[38;5;241m.\u001b[39mshape\u001b[38;5;132;01m}\u001b[39;00m\u001b[38;5;124m\"\u001b[39m)\n",
      "\u001b[0;31mValueError\u001b[0m: x and y must have same first dimension, but have shapes (9,) and (10,)"
     ]
    },
    {
     "data": {
      "image/png": "[encoded data removed]",
      "text/plain": [
       "<Figure size 640x480 with 1 Axes>"
      ]
     },
     "metadata": {},
     "output_type": "display_data"
    }
   ],
   "source": [
    "plt.figure()\n",
    "plt.plot(epochs[1:], test_losses, color = 'blue', label = \"Train Loss\")\n",
    "plt.plot(epochs[1:], val_losses, color = 'red', label = \"Test Loss\")\n",
    "plt.legend()\n",
    "plt.tight_layout()\n",
    "plt.show()"
   ]
  }
 ],
 "metadata": {
  "kernelspec": {
   "display_name": "mnist_practice_venv",
   "language": "python",
   "name": "python3"
  },
  "language_info": {
   "codemirror_mode": {
    "name": "ipython",
    "version": 3
   },
   "file_extension": ".py",
   "mimetype": "text/x-python",
   "name": "python",
   "nbconvert_exporter": "python",
   "pygments_lexer": "ipython3",
   "version": "3.12.7"
  }
 },
 "nbformat": 4,
 "nbformat_minor": 2
}
