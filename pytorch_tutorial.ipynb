{
 "cells": [
  {
   "cell_type": "code",
   "execution_count": 1,
   "metadata": {},
   "outputs": [],
   "source": [
    "import torch \n",
    "import numpy as np \n",
    "from torchvision import datasets, transforms "
   ]
  },
  {
   "cell_type": "markdown",
   "metadata": {},
   "source": [
    "### Playing around with some `Pytorch` features"
   ]
  },
  {
   "cell_type": "markdown",
   "metadata": {},
   "source": [
    "1) Tensors  \n",
    "  \n",
    "Pytorch tensors are basically numpy arrays but work on GPUs"
   ]
  },
  {
   "cell_type": "code",
   "execution_count": 8,
   "metadata": {},
   "outputs": [
    {
     "name": "stdout",
     "output_type": "stream",
     "text": [
      "tensor([[0.7176, 0.9758, 0.2720, 0.1525],\n",
      "        [0.2911, 0.4558, 0.5363, 0.2496],\n",
      "        [0.8435, 0.8710, 0.2288, 0.9301],\n",
      "        [0.1482, 0.1637, 0.0110, 0.7476]])\n",
      "tensor([0.7176, 0.2911, 0.8435, 0.1482])\n",
      "tensor([0.7176, 0.9758, 0.2720, 0.1525])\n",
      "tensor([[0.0000, 0.0000, 0.0000, 0.1525],\n",
      "        [0.0000, 0.0000, 0.0000, 0.2496],\n",
      "        [0.0000, 0.0000, 0.0000, 0.9301],\n",
      "        [0.0000, 0.0000, 0.0000, 0.7476]])\n"
     ]
    }
   ],
   "source": [
    "tensor = torch.rand(4, 4)\n",
    "print(tensor)\n",
    "print(tensor[:,0]) # first column (same as numpy)\n",
    "print(tensor[0,:]) # first row\n",
    "tensor[...,:-1] = 0. # changes all rows up to the last row to be zero\n",
    "print(tensor)"
   ]
  },
  {
   "cell_type": "code",
   "execution_count": null,
   "metadata": {},
   "outputs": [],
   "source": []
  },
  {
   "cell_type": "code",
   "execution_count": null,
   "metadata": {},
   "outputs": [],
   "source": []
  },
  {
   "cell_type": "code",
   "execution_count": null,
   "metadata": {},
   "outputs": [],
   "source": []
  },
  {
   "cell_type": "code",
   "execution_count": null,
   "metadata": {},
   "outputs": [],
   "source": [
    "transform = transforms.Compose([\n",
    "    transforms.ToTensor(),  # Convert images to PyTorch tensors\n",
    "    transforms.Normalize((0.5,), (0.5,))  # Normalize the images to [-1, 1]\n",
    "])"
   ]
  },
  {
   "cell_type": "code",
   "execution_count": null,
   "metadata": {},
   "outputs": [],
   "source": [
    "train_dataset = datasets.MNIST(\n",
    "    root='./data',  # Directory where data will be stored\n",
    "    train=True,     # Download the training set\n",
    "    transform=transform,  # Apply the transform\n",
    "    download=True   # Download the data if not already available\n",
    ")\n",
    "\n",
    "# Download and load the test dataset\n",
    "test_dataset = datasets.MNIST(\n",
    "    root='./data',\n",
    "    train=False,\n",
    "    transform=transform,\n",
    "    download=True\n",
    ")\n"
   ]
  }
 ],
 "metadata": {
  "kernelspec": {
   "display_name": "mnist_practice_venv",
   "language": "python",
   "name": "python3"
  },
  "language_info": {
   "codemirror_mode": {
    "name": "ipython",
    "version": 3
   },
   "file_extension": ".py",
   "mimetype": "text/x-python",
   "name": "python",
   "nbconvert_exporter": "python",
   "pygments_lexer": "ipython3",
   "version": "3.12.7"
  }
 },
 "nbformat": 4,
 "nbformat_minor": 2
}
